{
 "cells": [
  {
   "cell_type": "code",
   "execution_count": 44,
   "id": "55cee6ea",
   "metadata": {},
   "outputs": [],
   "source": [
    "import pandas as pd\n",
    "import numpy as np\n",
    "import seaborn as sns\n",
    "from matplotlib import pyplot as plt"
   ]
  },
  {
   "cell_type": "code",
   "execution_count": 8,
   "id": "eb503e4b",
   "metadata": {},
   "outputs": [
    {
     "data": {
      "text/html": [
       "<div>\n",
       "<style scoped>\n",
       "    .dataframe tbody tr th:only-of-type {\n",
       "        vertical-align: middle;\n",
       "    }\n",
       "\n",
       "    .dataframe tbody tr th {\n",
       "        vertical-align: top;\n",
       "    }\n",
       "\n",
       "    .dataframe thead th {\n",
       "        text-align: right;\n",
       "    }\n",
       "</style>\n",
       "<table border=\"1\" class=\"dataframe\">\n",
       "  <thead>\n",
       "    <tr style=\"text-align: right;\">\n",
       "      <th></th>\n",
       "      <th>rank</th>\n",
       "      <th>name</th>\n",
       "      <th>ELO</th>\n",
       "      <th>title</th>\n",
       "      <th>federation</th>\n",
       "      <th>games</th>\n",
       "      <th>birth_year</th>\n",
       "    </tr>\n",
       "  </thead>\n",
       "  <tbody>\n",
       "    <tr>\n",
       "      <th>0</th>\n",
       "      <td>1</td>\n",
       "      <td>Magnus Carlsen</td>\n",
       "      <td>2864</td>\n",
       "      <td>GM</td>\n",
       "      <td>Norway</td>\n",
       "      <td>3125</td>\n",
       "      <td>1990</td>\n",
       "    </tr>\n",
       "    <tr>\n",
       "      <th>1</th>\n",
       "      <td>2</td>\n",
       "      <td>Liren Ding</td>\n",
       "      <td>2806</td>\n",
       "      <td>GM</td>\n",
       "      <td>China</td>\n",
       "      <td>1630</td>\n",
       "      <td>1992</td>\n",
       "    </tr>\n",
       "    <tr>\n",
       "      <th>2</th>\n",
       "      <td>3</td>\n",
       "      <td>Alireza Firouzja</td>\n",
       "      <td>2793</td>\n",
       "      <td>GM</td>\n",
       "      <td>France</td>\n",
       "      <td>845</td>\n",
       "      <td>2003</td>\n",
       "    </tr>\n",
       "    <tr>\n",
       "      <th>3</th>\n",
       "      <td>4</td>\n",
       "      <td>Fabiano Caruana</td>\n",
       "      <td>2783</td>\n",
       "      <td>GM</td>\n",
       "      <td>United States</td>\n",
       "      <td>2622</td>\n",
       "      <td>1992</td>\n",
       "    </tr>\n",
       "    <tr>\n",
       "      <th>4</th>\n",
       "      <td>5</td>\n",
       "      <td>Levon Aronian</td>\n",
       "      <td>2775</td>\n",
       "      <td>GM</td>\n",
       "      <td>United States</td>\n",
       "      <td>3320</td>\n",
       "      <td>1982</td>\n",
       "    </tr>\n",
       "  </tbody>\n",
       "</table>\n",
       "</div>"
      ],
      "text/plain": [
       "   rank               name   ELO  title     federation   games  birth_year\n",
       "0      1    Magnus Carlsen   2864    GM         Norway    3125        1990\n",
       "1      2        Liren Ding   2806    GM          China    1630        1992\n",
       "2      3  Alireza Firouzja   2793    GM         France     845        2003\n",
       "3      4    Fabiano Caruana  2783    GM  United States    2622        1992\n",
       "4      5     Levon Aronian   2775    GM  United States    3320        1982"
      ]
     },
     "execution_count": 8,
     "metadata": {},
     "output_type": "execute_result"
    }
   ],
   "source": [
    "ranking = pd.read_csv('chess-fide-ranking.csv')\n",
    "ranking.head()"
   ]
  },
  {
   "cell_type": "markdown",
   "id": "8363afc0",
   "metadata": {},
   "source": [
    "* Consertando possíveis espaços nos nomes das colunas."
   ]
  },
  {
   "cell_type": "code",
   "execution_count": 15,
   "id": "4f816091",
   "metadata": {},
   "outputs": [],
   "source": [
    "ranking.columns = ['rank', 'name', 'ELO', 'title', 'federation', 'games', 'birth_year']"
   ]
  },
  {
   "cell_type": "markdown",
   "id": "ddd72286",
   "metadata": {},
   "source": [
    "* Média geral rating"
   ]
  },
  {
   "cell_type": "code",
   "execution_count": 16,
   "id": "476f63aa",
   "metadata": {},
   "outputs": [
    {
     "data": {
      "text/plain": [
       "2662.385"
      ]
     },
     "execution_count": 16,
     "metadata": {},
     "output_type": "execute_result"
    }
   ],
   "source": [
    "ranking.ELO.mean()"
   ]
  },
  {
   "cell_type": "markdown",
   "id": "a02abdb3",
   "metadata": {},
   "source": [
    "* Média por federação"
   ]
  },
  {
   "cell_type": "code",
   "execution_count": 23,
   "id": "1faafbb4",
   "metadata": {},
   "outputs": [
    {
     "data": {
      "text/html": [
       "<div>\n",
       "<style scoped>\n",
       "    .dataframe tbody tr th:only-of-type {\n",
       "        vertical-align: middle;\n",
       "    }\n",
       "\n",
       "    .dataframe tbody tr th {\n",
       "        vertical-align: top;\n",
       "    }\n",
       "\n",
       "    .dataframe thead th {\n",
       "        text-align: right;\n",
       "    }\n",
       "</style>\n",
       "<table border=\"1\" class=\"dataframe\">\n",
       "  <thead>\n",
       "    <tr style=\"text-align: right;\">\n",
       "      <th></th>\n",
       "      <th>Country</th>\n",
       "      <th>Rating_mean</th>\n",
       "    </tr>\n",
       "  </thead>\n",
       "  <tbody>\n",
       "    <tr>\n",
       "      <th>1</th>\n",
       "      <td>Argentina</td>\n",
       "      <td>2652.000000</td>\n",
       "    </tr>\n",
       "    <tr>\n",
       "      <th>2</th>\n",
       "      <td>Armenia</td>\n",
       "      <td>2641.444444</td>\n",
       "    </tr>\n",
       "    <tr>\n",
       "      <th>3</th>\n",
       "      <td>Austria</td>\n",
       "      <td>2647.000000</td>\n",
       "    </tr>\n",
       "  </tbody>\n",
       "</table>\n",
       "</div>"
      ],
      "text/plain": [
       "      Country  Rating_mean\n",
       "1  Argentina   2652.000000\n",
       "2    Armenia   2641.444444\n",
       "3    Austria   2647.000000"
      ]
     },
     "execution_count": 23,
     "metadata": {},
     "output_type": "execute_result"
    }
   ],
   "source": [
    "mean_by_federation = ranking.groupby('federation').ELO.mean().to_frame().reset_index()\n",
    "mean_by_federation.columns = ['Country', 'Rating_mean']\n",
    "mean_by_federation.index += 1\n",
    "mean_by_federation.head(3)"
   ]
  },
  {
   "cell_type": "markdown",
   "id": "e9c7cdb1",
   "metadata": {},
   "source": [
    "* Quantidade de Jogadores por país"
   ]
  },
  {
   "cell_type": "code",
   "execution_count": 47,
   "id": "e67ee5df",
   "metadata": {},
   "outputs": [
    {
     "data": {
      "text/html": [
       "<div>\n",
       "<style scoped>\n",
       "    .dataframe tbody tr th:only-of-type {\n",
       "        vertical-align: middle;\n",
       "    }\n",
       "\n",
       "    .dataframe tbody tr th {\n",
       "        vertical-align: top;\n",
       "    }\n",
       "\n",
       "    .dataframe thead th {\n",
       "        text-align: right;\n",
       "    }\n",
       "</style>\n",
       "<table border=\"1\" class=\"dataframe\">\n",
       "  <thead>\n",
       "    <tr style=\"text-align: right;\">\n",
       "      <th></th>\n",
       "      <th>Country</th>\n",
       "      <th>Players</th>\n",
       "    </tr>\n",
       "  </thead>\n",
       "  <tbody>\n",
       "    <tr>\n",
       "      <th>1</th>\n",
       "      <td>Russian Federation</td>\n",
       "      <td>22</td>\n",
       "    </tr>\n",
       "    <tr>\n",
       "      <th>2</th>\n",
       "      <td>United States</td>\n",
       "      <td>19</td>\n",
       "    </tr>\n",
       "    <tr>\n",
       "      <th>3</th>\n",
       "      <td>NaN</td>\n",
       "      <td>17</td>\n",
       "    </tr>\n",
       "  </tbody>\n",
       "</table>\n",
       "</div>"
      ],
      "text/plain": [
       "               Country  Players\n",
       "1  Russian Federation        22\n",
       "2       United States        19\n",
       "3                  NaN       17"
      ]
     },
     "execution_count": 47,
     "metadata": {},
     "output_type": "execute_result"
    }
   ],
   "source": [
    "players_by_nation = ranking.federation.value_counts().to_frame().reset_index()\n",
    "players_by_nation.columns = ['Country', 'Players']\n",
    "players_by_nation.Country = players_by_nation.Country\n",
    "players_by_nation.index += 1\n",
    "players_by_nation.head(3)"
   ]
  },
  {
   "cell_type": "code",
   "execution_count": 43,
   "id": "87f8e4e4",
   "metadata": {},
   "outputs": [
    {
     "data": {
      "text/plain": [
       "43"
      ]
     },
     "execution_count": 43,
     "metadata": {},
     "output_type": "execute_result"
    }
   ],
   "source": [
    "np.size(ranking.federation.unique())"
   ]
  },
  {
   "cell_type": "code",
   "execution_count": 46,
   "id": "af6d087f",
   "metadata": {},
   "outputs": [
    {
     "data": {
      "text/plain": [
       "<AxesSubplot:xlabel='Country', ylabel='Players'>"
      ]
     },
     "execution_count": 46,
     "metadata": {},
     "output_type": "execute_result"
    },
    {
     "data": {
      "image/png": "[encoded data removed]",
      "text/plain": [
       "<Figure size 432x288 with 1 Axes>"
      ]
     },
     "metadata": {
      "needs_background": "light"
     },
     "output_type": "display_data"
    }
   ],
   "source": [
    "sns.barplot(x='Country', y='Players', data=players_by_nation)"
   ]
  }
 ],
 "metadata": {
  "kernelspec": {
   "display_name": "Python 3 (ipykernel)",
   "language": "python",
   "name": "python3"
  },
  "language_info": {
   "codemirror_mode": {
    "name": "ipython",
    "version": 3
   },
   "file_extension": ".py",
   "mimetype": "text/x-python",
   "name": "python",
   "nbconvert_exporter": "python",
   "pygments_lexer": "ipython3",
   "version": "3.9.7"
  }
 },
 "nbformat": 4,
 "nbformat_minor": 5
}
